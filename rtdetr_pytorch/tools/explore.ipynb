{
 "cells": [
  {
   "cell_type": "code",
   "execution_count": 1,
   "metadata": {},
   "outputs": [
    {
     "name": "stdout",
     "output_type": "stream",
     "text": [
      "Not init distributed mode.\n"
     ]
    }
   ],
   "source": [
    "import os \n",
    "import sys \n",
    "sys.path.insert(0, '/home/kevin/Custom-RT-DETR/rtdetr_pytorch')\n",
    "\n",
    "import src.misc.dist as dist \n",
    "from src.core import YAMLConfig \n",
    "from src.solver import TASKS\n",
    "from src.nn.backbone.presnet import PResNet\n",
    "\n",
    "dist.init_distributed()\n",
    "\n",
    "cfg = YAMLConfig(\n",
    "    '/home/kevin/Custom-RT-DETR/rtdetr_pytorch/configs/rtdetr/rtdetr_r50vd_6x_coco.yml',\n",
    "    resume='/home/kevin/Custom-RT-DETR/rtdetr_pytorch/rtdetrv2_r50vd_6x_coco_full.pth', \n",
    "    use_amp=False,\n",
    "    tuning=False,\n",
    ")\n",
    "\n",
    "solver = TASKS[cfg.yaml_cfg['task']](cfg)\n"
   ]
  },
  {
   "cell_type": "code",
   "execution_count": 2,
   "metadata": {},
   "outputs": [
    {
     "name": "stdout",
     "output_type": "stream",
     "text": [
      "Start training\n"
     ]
    },
    {
     "name": "stdout",
     "output_type": "stream",
     "text": [
      "Loaded PResNet50 state_dict from url https://github.com/lyuwenyu/storage/releases/download/v0.1/ResNet50_vd_ssld_v2_pretrained_from_paddle.pth\n",
      "Initial lr:  [1e-05, 0.0001, 0.0001, 0.0001]\n",
      "WARNING: no backup driver enabled\n",
      "Resume checkpoint from /home/kevin/Custom-RT-DETR/rtdetr_pytorch/rtdetrv2_r50vd_6x_coco_full.pth\n",
      "Loading last_epoch\n"
     ]
    },
    {
     "ename": "RuntimeError",
     "evalue": "Error(s) in loading state_dict for RTDETR:\n\tMissing key(s) in state_dict: \"decoder.enc_output.0.weight\", \"decoder.enc_output.0.bias\", \"decoder.enc_output.1.weight\", \"decoder.enc_output.1.bias\", \"encoder.input_proj.0.0.weight\", \"encoder.input_proj.0.1.weight\", \"encoder.input_proj.0.1.bias\", \"encoder.input_proj.0.1.running_mean\", \"encoder.input_proj.0.1.running_var\", \"encoder.input_proj.1.0.weight\", \"encoder.input_proj.1.1.weight\", \"encoder.input_proj.1.1.bias\", \"encoder.input_proj.1.1.running_mean\", \"encoder.input_proj.1.1.running_var\", \"encoder.input_proj.2.0.weight\", \"encoder.input_proj.2.1.weight\", \"encoder.input_proj.2.1.bias\", \"encoder.input_proj.2.1.running_mean\", \"encoder.input_proj.2.1.running_var\". \n\tUnexpected key(s) in state_dict: \"decoder.anchors\", \"decoder.valid_mask\", \"decoder.decoder.layers.0.cross_attn.num_points_scale\", \"decoder.decoder.layers.1.cross_attn.num_points_scale\", \"decoder.decoder.layers.2.cross_attn.num_points_scale\", \"decoder.decoder.layers.3.cross_attn.num_points_scale\", \"decoder.decoder.layers.4.cross_attn.num_points_scale\", \"decoder.decoder.layers.5.cross_attn.num_points_scale\", \"decoder.enc_output.proj.weight\", \"decoder.enc_output.proj.bias\", \"decoder.enc_output.norm.weight\", \"decoder.enc_output.norm.bias\", \"encoder.input_proj.0.conv.weight\", \"encoder.input_proj.0.norm.weight\", \"encoder.input_proj.0.norm.bias\", \"encoder.input_proj.0.norm.running_mean\", \"encoder.input_proj.0.norm.running_var\", \"encoder.input_proj.0.norm.num_batches_tracked\", \"encoder.input_proj.1.conv.weight\", \"encoder.input_proj.1.norm.weight\", \"encoder.input_proj.1.norm.bias\", \"encoder.input_proj.1.norm.running_mean\", \"encoder.input_proj.1.norm.running_var\", \"encoder.input_proj.1.norm.num_batches_tracked\", \"encoder.input_proj.2.conv.weight\", \"encoder.input_proj.2.norm.weight\", \"encoder.input_proj.2.norm.bias\", \"encoder.input_proj.2.norm.running_mean\", \"encoder.input_proj.2.norm.running_var\", \"encoder.input_proj.2.norm.num_batches_tracked\". ",
     "output_type": "error",
     "traceback": [
      "\u001b[0;31m---------------------------------------------------------------------------\u001b[0m",
      "\u001b[0;31mRuntimeError\u001b[0m                              Traceback (most recent call last)",
      "Cell \u001b[0;32mIn[2], line 1\u001b[0m\n\u001b[0;32m----> 1\u001b[0m \u001b[43msolver\u001b[49m\u001b[38;5;241;43m.\u001b[39;49m\u001b[43mfit\u001b[49m\u001b[43m(\u001b[49m\u001b[38;5;28;43;01mTrue\u001b[39;49;00m\u001b[43m,\u001b[49m\u001b[43m \u001b[49m\u001b[38;5;28;43;01mFalse\u001b[39;49;00m\u001b[43m,\u001b[49m\u001b[43m \u001b[49m\u001b[38;5;28;43;01mFalse\u001b[39;49;00m\u001b[43m)\u001b[49m\n\u001b[1;32m      2\u001b[0m model \u001b[38;5;241m=\u001b[39m solver\u001b[38;5;241m.\u001b[39mmodel\n",
      "File \u001b[0;32m~/Custom-RT-DETR/rtdetr_pytorch/src/solver/det_solver.py:32\u001b[0m, in \u001b[0;36mDetSolver.fit\u001b[0;34m(self, setup_model, setup_dataloader, run_actual)\u001b[0m\n\u001b[1;32m     29\u001b[0m     \u001b[38;5;28mprint\u001b[39m(\u001b[38;5;124mf\u001b[39m\u001b[38;5;124m'\u001b[39m\u001b[38;5;124mDir output \u001b[39m\u001b[38;5;132;01m{\u001b[39;00m\u001b[38;5;28mself\u001b[39m\u001b[38;5;241m.\u001b[39mcfg\u001b[38;5;241m.\u001b[39moutput_dir\u001b[38;5;132;01m}\u001b[39;00m\u001b[38;5;124m is exists and the mode is training (not resuming the training). To prevent overriding, training has been cancelled\u001b[39m\u001b[38;5;124m'\u001b[39m)\n\u001b[1;32m     30\u001b[0m     exit(\u001b[38;5;241m1\u001b[39m)\n\u001b[0;32m---> 32\u001b[0m \u001b[38;5;28;43mself\u001b[39;49m\u001b[38;5;241;43m.\u001b[39;49m\u001b[43mtrain\u001b[49m\u001b[43m(\u001b[49m\u001b[43msetup_model\u001b[49m\u001b[43m,\u001b[49m\u001b[43m \u001b[49m\u001b[43msetup_dataloader\u001b[49m\u001b[43m)\u001b[49m\n\u001b[1;32m     34\u001b[0m \u001b[38;5;28;01mif\u001b[39;00m \u001b[38;5;129;01mnot\u001b[39;00m os\u001b[38;5;241m.\u001b[39mpath\u001b[38;5;241m.\u001b[39misdir(\u001b[38;5;28mself\u001b[39m\u001b[38;5;241m.\u001b[39moutput_dir):\n\u001b[1;32m     35\u001b[0m     \u001b[38;5;28mprint\u001b[39m(\u001b[38;5;124mf\u001b[39m\u001b[38;5;124m'\u001b[39m\u001b[38;5;124mError: output_dir \u001b[39m\u001b[38;5;132;01m{\u001b[39;00m\u001b[38;5;28mself\u001b[39m\u001b[38;5;241m.\u001b[39moutput_dir\u001b[38;5;132;01m}\u001b[39;00m\u001b[38;5;124m cannot be accessed\u001b[39m\u001b[38;5;124m'\u001b[39m)\n",
      "File \u001b[0;32m~/Custom-RT-DETR/rtdetr_pytorch/src/solver/solver.py:72\u001b[0m, in \u001b[0;36mBaseSolver.train\u001b[0;34m(self, setup_model, setup_dataloader)\u001b[0m\n\u001b[1;32m     67\u001b[0m         \u001b[38;5;28mprint\u001b[39m(\u001b[38;5;124m'\u001b[39m\u001b[38;5;124mWARNING: no backup driver enabled\u001b[39m\u001b[38;5;124m'\u001b[39m)\n\u001b[1;32m     69\u001b[0m     \u001b[38;5;28mprint\u001b[39m(\u001b[38;5;124mf\u001b[39m\u001b[38;5;124m'\u001b[39m\u001b[38;5;124mResume checkpoint from \u001b[39m\u001b[38;5;132;01m{\u001b[39;00m\u001b[38;5;28mself\u001b[39m\u001b[38;5;241m.\u001b[39mcfg\u001b[38;5;241m.\u001b[39mresume\u001b[38;5;132;01m}\u001b[39;00m\u001b[38;5;124m'\u001b[39m)\n\u001b[0;32m---> 72\u001b[0m     \u001b[38;5;28;43mself\u001b[39;49m\u001b[38;5;241;43m.\u001b[39;49m\u001b[43mresume\u001b[49m\u001b[43m(\u001b[49m\u001b[38;5;28;43mself\u001b[39;49m\u001b[38;5;241;43m.\u001b[39;49m\u001b[43mcfg\u001b[49m\u001b[38;5;241;43m.\u001b[39;49m\u001b[43mresume\u001b[49m\u001b[43m)\u001b[49m\n\u001b[1;32m     74\u001b[0m \u001b[38;5;28;01mif\u001b[39;00m setup_dataloader:\n\u001b[1;32m     75\u001b[0m     \u001b[38;5;28mself\u001b[39m\u001b[38;5;241m.\u001b[39mtrain_dataloader \u001b[38;5;241m=\u001b[39m dist\u001b[38;5;241m.\u001b[39mwarp_loader(\u001b[38;5;28mself\u001b[39m\u001b[38;5;241m.\u001b[39mcfg\u001b[38;5;241m.\u001b[39mtrain_dataloader, \\\n\u001b[1;32m     76\u001b[0m         shuffle\u001b[38;5;241m=\u001b[39m\u001b[38;5;28mself\u001b[39m\u001b[38;5;241m.\u001b[39mcfg\u001b[38;5;241m.\u001b[39mtrain_dataloader\u001b[38;5;241m.\u001b[39mshuffle)\n",
      "File \u001b[0;32m~/Custom-RT-DETR/rtdetr_pytorch/src/solver/solver.py:161\u001b[0m, in \u001b[0;36mBaseSolver.resume\u001b[0;34m(self, path)\u001b[0m\n\u001b[1;32m    159\u001b[0m \u001b[38;5;66;03m# for cuda:0 memory\u001b[39;00m\n\u001b[1;32m    160\u001b[0m state \u001b[38;5;241m=\u001b[39m torch\u001b[38;5;241m.\u001b[39mload(path, map_location\u001b[38;5;241m=\u001b[39m\u001b[38;5;124m'\u001b[39m\u001b[38;5;124mcpu\u001b[39m\u001b[38;5;124m'\u001b[39m)\n\u001b[0;32m--> 161\u001b[0m \u001b[38;5;28;43mself\u001b[39;49m\u001b[38;5;241;43m.\u001b[39;49m\u001b[43mload_state_dict\u001b[49m\u001b[43m(\u001b[49m\u001b[43mstate\u001b[49m\u001b[43m)\u001b[49m\n",
      "File \u001b[0;32m~/Custom-RT-DETR/rtdetr_pytorch/src/solver/solver.py:129\u001b[0m, in \u001b[0;36mBaseSolver.load_state_dict\u001b[0;34m(self, state)\u001b[0m\n\u001b[1;32m    127\u001b[0m         \u001b[38;5;28mself\u001b[39m\u001b[38;5;241m.\u001b[39mmodel\u001b[38;5;241m.\u001b[39mmodule\u001b[38;5;241m.\u001b[39mload_state_dict(state[\u001b[38;5;124m'\u001b[39m\u001b[38;5;124mmodel\u001b[39m\u001b[38;5;124m'\u001b[39m])\n\u001b[1;32m    128\u001b[0m     \u001b[38;5;28;01melse\u001b[39;00m:\n\u001b[0;32m--> 129\u001b[0m         \u001b[38;5;28;43mself\u001b[39;49m\u001b[38;5;241;43m.\u001b[39;49m\u001b[43mmodel\u001b[49m\u001b[38;5;241;43m.\u001b[39;49m\u001b[43mload_state_dict\u001b[49m\u001b[43m(\u001b[49m\u001b[43mstate\u001b[49m\u001b[43m[\u001b[49m\u001b[38;5;124;43m'\u001b[39;49m\u001b[38;5;124;43mmodel\u001b[39;49m\u001b[38;5;124;43m'\u001b[39;49m\u001b[43m]\u001b[49m\u001b[43m)\u001b[49m\n\u001b[1;32m    130\u001b[0m     \u001b[38;5;28mprint\u001b[39m(\u001b[38;5;124m'\u001b[39m\u001b[38;5;124mLoading model.state_dict\u001b[39m\u001b[38;5;124m'\u001b[39m)\n\u001b[1;32m    132\u001b[0m \u001b[38;5;28;01mif\u001b[39;00m \u001b[38;5;28mgetattr\u001b[39m(\u001b[38;5;28mself\u001b[39m, \u001b[38;5;124m'\u001b[39m\u001b[38;5;124mema\u001b[39m\u001b[38;5;124m'\u001b[39m, \u001b[38;5;28;01mNone\u001b[39;00m) \u001b[38;5;129;01mand\u001b[39;00m \u001b[38;5;124m'\u001b[39m\u001b[38;5;124mema\u001b[39m\u001b[38;5;124m'\u001b[39m \u001b[38;5;129;01min\u001b[39;00m state:\n",
      "File \u001b[0;32m~/env/lib/python3.8/site-packages/torch/nn/modules/module.py:2041\u001b[0m, in \u001b[0;36mModule.load_state_dict\u001b[0;34m(self, state_dict, strict)\u001b[0m\n\u001b[1;32m   2036\u001b[0m         error_msgs\u001b[38;5;241m.\u001b[39minsert(\n\u001b[1;32m   2037\u001b[0m             \u001b[38;5;241m0\u001b[39m, \u001b[38;5;124m'\u001b[39m\u001b[38;5;124mMissing key(s) in state_dict: \u001b[39m\u001b[38;5;132;01m{}\u001b[39;00m\u001b[38;5;124m. \u001b[39m\u001b[38;5;124m'\u001b[39m\u001b[38;5;241m.\u001b[39mformat(\n\u001b[1;32m   2038\u001b[0m                 \u001b[38;5;124m'\u001b[39m\u001b[38;5;124m, \u001b[39m\u001b[38;5;124m'\u001b[39m\u001b[38;5;241m.\u001b[39mjoin(\u001b[38;5;124m'\u001b[39m\u001b[38;5;124m\"\u001b[39m\u001b[38;5;132;01m{}\u001b[39;00m\u001b[38;5;124m\"\u001b[39m\u001b[38;5;124m'\u001b[39m\u001b[38;5;241m.\u001b[39mformat(k) \u001b[38;5;28;01mfor\u001b[39;00m k \u001b[38;5;129;01min\u001b[39;00m missing_keys)))\n\u001b[1;32m   2040\u001b[0m \u001b[38;5;28;01mif\u001b[39;00m \u001b[38;5;28mlen\u001b[39m(error_msgs) \u001b[38;5;241m>\u001b[39m \u001b[38;5;241m0\u001b[39m:\n\u001b[0;32m-> 2041\u001b[0m     \u001b[38;5;28;01mraise\u001b[39;00m \u001b[38;5;167;01mRuntimeError\u001b[39;00m(\u001b[38;5;124m'\u001b[39m\u001b[38;5;124mError(s) in loading state_dict for \u001b[39m\u001b[38;5;132;01m{}\u001b[39;00m\u001b[38;5;124m:\u001b[39m\u001b[38;5;130;01m\\n\u001b[39;00m\u001b[38;5;130;01m\\t\u001b[39;00m\u001b[38;5;132;01m{}\u001b[39;00m\u001b[38;5;124m'\u001b[39m\u001b[38;5;241m.\u001b[39mformat(\n\u001b[1;32m   2042\u001b[0m                        \u001b[38;5;28mself\u001b[39m\u001b[38;5;241m.\u001b[39m\u001b[38;5;18m__class__\u001b[39m\u001b[38;5;241m.\u001b[39m\u001b[38;5;18m__name__\u001b[39m, \u001b[38;5;124m\"\u001b[39m\u001b[38;5;130;01m\\n\u001b[39;00m\u001b[38;5;130;01m\\t\u001b[39;00m\u001b[38;5;124m\"\u001b[39m\u001b[38;5;241m.\u001b[39mjoin(error_msgs)))\n\u001b[1;32m   2043\u001b[0m \u001b[38;5;28;01mreturn\u001b[39;00m _IncompatibleKeys(missing_keys, unexpected_keys)\n",
      "\u001b[0;31mRuntimeError\u001b[0m: Error(s) in loading state_dict for RTDETR:\n\tMissing key(s) in state_dict: \"decoder.enc_output.0.weight\", \"decoder.enc_output.0.bias\", \"decoder.enc_output.1.weight\", \"decoder.enc_output.1.bias\", \"encoder.input_proj.0.0.weight\", \"encoder.input_proj.0.1.weight\", \"encoder.input_proj.0.1.bias\", \"encoder.input_proj.0.1.running_mean\", \"encoder.input_proj.0.1.running_var\", \"encoder.input_proj.1.0.weight\", \"encoder.input_proj.1.1.weight\", \"encoder.input_proj.1.1.bias\", \"encoder.input_proj.1.1.running_mean\", \"encoder.input_proj.1.1.running_var\", \"encoder.input_proj.2.0.weight\", \"encoder.input_proj.2.1.weight\", \"encoder.input_proj.2.1.bias\", \"encoder.input_proj.2.1.running_mean\", \"encoder.input_proj.2.1.running_var\". \n\tUnexpected key(s) in state_dict: \"decoder.anchors\", \"decoder.valid_mask\", \"decoder.decoder.layers.0.cross_attn.num_points_scale\", \"decoder.decoder.layers.1.cross_attn.num_points_scale\", \"decoder.decoder.layers.2.cross_attn.num_points_scale\", \"decoder.decoder.layers.3.cross_attn.num_points_scale\", \"decoder.decoder.layers.4.cross_attn.num_points_scale\", \"decoder.decoder.layers.5.cross_attn.num_points_scale\", \"decoder.enc_output.proj.weight\", \"decoder.enc_output.proj.bias\", \"decoder.enc_output.norm.weight\", \"decoder.enc_output.norm.bias\", \"encoder.input_proj.0.conv.weight\", \"encoder.input_proj.0.norm.weight\", \"encoder.input_proj.0.norm.bias\", \"encoder.input_proj.0.norm.running_mean\", \"encoder.input_proj.0.norm.running_var\", \"encoder.input_proj.0.norm.num_batches_tracked\", \"encoder.input_proj.1.conv.weight\", \"encoder.input_proj.1.norm.weight\", \"encoder.input_proj.1.norm.bias\", \"encoder.input_proj.1.norm.running_mean\", \"encoder.input_proj.1.norm.running_var\", \"encoder.input_proj.1.norm.num_batches_tracked\", \"encoder.input_proj.2.conv.weight\", \"encoder.input_proj.2.norm.weight\", \"encoder.input_proj.2.norm.bias\", \"encoder.input_proj.2.norm.running_mean\", \"encoder.input_proj.2.norm.running_var\", \"encoder.input_proj.2.norm.num_batches_tracked\". "
     ]
    }
   ],
   "source": [
    "solver.fit(True, False, False)\n",
    "model = solver.model"
   ]
  },
  {
   "cell_type": "code",
   "execution_count": null,
   "metadata": {},
   "outputs": [
    {
     "ename": "",
     "evalue": "",
     "output_type": "error",
     "traceback": [
      "\u001b[1;31mThe Kernel crashed while executing code in the current cell or a previous cell. \n",
      "\u001b[1;31mPlease review the code in the cell(s) to identify a possible cause of the failure. \n",
      "\u001b[1;31mClick <a href='https://aka.ms/vscodeJupyterKernelCrash'>here</a> for more info. \n",
      "\u001b[1;31mView Jupyter <a href='command:jupyter.viewOutput'>log</a> for further details."
     ]
    }
   ],
   "source": [
    "import torch\n",
    "torch.save(solver.model.backbone.state_dict(), \"resnet50coco.pt\")"
   ]
  },
  {
   "cell_type": "code",
   "execution_count": null,
   "metadata": {},
   "outputs": [],
   "source": []
  }
 ],
 "metadata": {
  "kernelspec": {
   "display_name": "base",
   "language": "python",
   "name": "python3"
  },
  "language_info": {
   "codemirror_mode": {
    "name": "ipython",
    "version": 3
   },
   "file_extension": ".py",
   "mimetype": "text/x-python",
   "name": "python",
   "nbconvert_exporter": "python",
   "pygments_lexer": "ipython3",
   "version": "3.8.10"
  }
 },
 "nbformat": 4,
 "nbformat_minor": 2
}
