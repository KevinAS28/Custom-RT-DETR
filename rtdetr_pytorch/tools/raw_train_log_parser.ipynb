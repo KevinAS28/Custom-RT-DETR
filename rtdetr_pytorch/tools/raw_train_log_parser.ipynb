{
 "cells": [
  {
   "cell_type": "code",
   "execution_count": 5,
   "metadata": {},
   "outputs": [],
   "source": [
    "import json\n",
    "import re\n",
    "\n",
    "RAW_LOG_PATH = 'train_log_raw.txt'\n",
    "\n",
    "with open(RAW_LOG_PATH, 'r') as raw_log_file:\n",
    "    raw_log = raw_log_file.read()\n"
   ]
  },
  {
   "cell_type": "code",
   "execution_count": 26,
   "metadata": {},
   "outputs": [
    {
     "name": "stdout",
     "output_type": "stream",
     "text": [
      "0\n",
      "1\n",
      "2\n",
      "3\n",
      "4\n",
      "5\n",
      "6\n",
      "7\n",
      "8\n",
      "9\n",
      "10\n"
     ]
    },
    {
     "data": {
      "text/plain": [
       "'{\"train_loss\": 25.9414, \"test_coco_eval_bbox\": [0.091, 0.183, 0.081, 0.069, 0.126, 0.114]}\\n{\"train_loss\": 23.8324, \"test_coco_eval_bbox\": [0.164, 0.297, 0.157, 0.108, 0.23, 0.206]}\\n{\"train_loss\": 23.2881, \"test_coco_eval_bbox\": [0.213, 0.367, 0.215, 0.121, 0.274, 0.334]}\\n{\"train_loss\": 22.2695, \"test_coco_eval_bbox\": [0.262, 0.449, 0.27, 0.133, 0.325, 0.465]}\\n{\"train_loss\": 22.0612, \"test_coco_eval_bbox\": [0.267, 0.455, 0.272, 0.136, 0.323, 0.461]}\\n{\"train_loss\": 21.6311, \"test_coco_eval_bbox\": [0.288, 0.494, 0.296, 0.148, 0.347, 0.501]}\\n{\"train_loss\": 21.3049, \"test_coco_eval_bbox\": [0.314, 0.53, 0.308, 0.158, 0.364, 0.568]}\\n{\"train_loss\": 20.7793, \"test_coco_eval_bbox\": [0.317, 0.53, 0.323, 0.166, 0.381, 0.538]}\\n{\"train_loss\": 21.0857, \"test_coco_eval_bbox\": [0.338, 0.564, 0.334, 0.176, 0.392, 0.599]}\\n{\"train_loss\": 20.8906, \"test_coco_eval_bbox\": [0.341, 0.562, 0.345, 0.175, 0.404, 0.6]}'"
      ]
     },
     "execution_count": 26,
     "metadata": {},
     "output_type": "execute_result"
    }
   ],
   "source": [
    "all_epoch_data = []\n",
    "last_epoch = None\n",
    "epoch_data = dict()\n",
    "first_epoch = True\n",
    "for line_i, line in enumerate(raw_log.split('\\n')):\n",
    "    epoch_line = re.search(r'Epoch ([\\d]+) started at.*', line)\n",
    "    if last_epoch is None:    \n",
    "        if not epoch_line:\n",
    "            continue\n",
    "        else:\n",
    "            last_epoch = int(epoch_line.groups(0)[0])\n",
    "            print(last_epoch)\n",
    "\n",
    "    if not (last_epoch is None):\n",
    "        if epoch_line:\n",
    "            if first_epoch:\n",
    "                first_epoch = False\n",
    "                continue\n",
    "            all_epoch_data.append(json.dumps(epoch_data))\n",
    "            epoch_data = dict()\n",
    "            last_epoch = int(epoch_line.groups(0)[0])\n",
    "            print(last_epoch)\n",
    "        else:\n",
    "            if ('Averaged stats' in line) and ('loss: ' in line):\n",
    "                epoch_data['train_loss'] = float(re.search(r'loss\\: ([\\d|\\.]+)', line).groups(0)[0])\n",
    "\n",
    "            if  'Average Precision  (AP) @[ IoU=0.50:0.95 | area=   all | maxDets=100 ] = ' in line:\n",
    "                epoch_data['test_coco_eval_bbox'] = [float(line.split('=')[-1].strip())]\n",
    "\n",
    "            if  'Average Precision  (AP) @[ IoU=0.50      | area=   all | maxDets=100 ] = ' in line:\n",
    "                epoch_data['test_coco_eval_bbox'].append(float(line.split('=')[-1].strip()))\n",
    "\n",
    "            if  'Average Precision  (AP) @[ IoU=0.75      | area=   all | maxDets=100 ] = ' in line:\n",
    "                epoch_data['test_coco_eval_bbox'].append(float(line.split('=')[-1].strip()))\n",
    "\n",
    "            if  'Average Precision  (AP) @[ IoU=0.50:0.95 | area= small | maxDets=100 ] = ' in line:\n",
    "                epoch_data['test_coco_eval_bbox'].append(float(line.split('=')[-1].strip()))\n",
    "\n",
    "            if  'Average Precision  (AP) @[ IoU=0.50:0.95 | area=medium | maxDets=100 ] = ' in line:\n",
    "                epoch_data['test_coco_eval_bbox'].append(float(line.split('=')[-1].strip()))\n",
    "\n",
    "            if  'Average Precision  (AP) @[ IoU=0.50:0.95 | area= large | maxDets=100 ] = ' in line:\n",
    "                epoch_data['test_coco_eval_bbox'].append(float(line.split('=')[-1].strip()))\n",
    "\n",
    "final_out = '\\n'.join(all_epoch_data)\n",
    "with open('train_log_parsed_json.txt', 'w+') as file:\n",
    "    file.write(final_out)\n",
    "\n",
    "final_out"
   ]
  },
  {
   "cell_type": "code",
   "execution_count": null,
   "metadata": {},
   "outputs": [],
   "source": []
  }
 ],
 "metadata": {
  "kernelspec": {
   "display_name": "base",
   "language": "python",
   "name": "python3"
  },
  "language_info": {
   "codemirror_mode": {
    "name": "ipython",
    "version": 3
   },
   "file_extension": ".py",
   "mimetype": "text/x-python",
   "name": "python",
   "nbconvert_exporter": "python",
   "pygments_lexer": "ipython3",
   "version": "3.11.6"
  }
 },
 "nbformat": 4,
 "nbformat_minor": 2
}
